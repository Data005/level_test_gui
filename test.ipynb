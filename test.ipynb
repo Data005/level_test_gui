{
 "cells": [
  {
   "cell_type": "code",
   "execution_count": 1,
   "metadata": {},
   "outputs": [
    {
     "name": "stdout",
     "output_type": "stream",
     "text": [
      "LENOVO_PC\n",
      "**Note Use all devices of only one wavelength at a time\n",
      "**Note Full charge the devices to run L5\n",
      "**Note Count all active ports in device manager, that should be equal to no. of devices connected.\n",
      "**Note Make sure that bluetooth in the PC/Laptop is turned off\n",
      "\n"
     ]
    }
   ],
   "source": [
    "# Import the relevant libraries\n",
    "import serial\n",
    "import time\n",
    "import os\n",
    "import pandas as pd\n",
    "import numpy as np\n",
    "import serial.tools.list_ports as sp\n",
    "import statistics as sts\n",
    "import time\n",
    "import datetime\n",
    "date_obj = datetime.date.today()\n",
    "date = str(date_obj.day) + '_' + str(date_obj.month) + '_' + str(date_obj.year)\n",
    "cwd = os.getcwd()\n",
    "pc_name = cwd.split('\\\\')[2].upper()+\"_PC\"\n",
    "print(pc_name)\n",
    "print(\"**Note Use all devices of only one wavelength at a time\")\n",
    "print(\"**Note Full charge the devices to run L5\")\n",
    "print(\"**Note Count all active ports in device manager, that should be equal to no. of devices connected.\")\n",
    "print(\"**Note Make sure that bluetooth in the PC/Laptop is turned off\")\n",
    "print(\"\")\n",
    "# user = int(input(\"Enter 1 for PC, 2 for Laptop : \"))"
   ]
  },
  {
   "cell_type": "code",
   "execution_count": 2,
   "metadata": {},
   "outputs": [
    {
     "name": "stdout",
     "output_type": "stream",
     "text": [
      "['COM4']\n"
     ]
    }
   ],
   "source": [
    "ports = sp.comports()\n",
    "port_list = []\n",
    "[port_list.append(str(single_port).split('-')[0].strip()) for single_port in ports]\n",
    "print(port_list)"
   ]
  },
  {
   "cell_type": "code",
   "execution_count": 6,
   "metadata": {},
   "outputs": [
    {
     "name": "stdout",
     "output_type": "stream",
     "text": [
      "Invalid wavelength! Please try again!\n"
     ]
    }
   ],
   "source": [
    "time_dur = 15\n",
    "repeats = 5\n",
    "delay = 10\n",
    "level_list = [1, 5]\n",
    "\n",
    "# Constants\n",
    "charge_limit = 3.4            # Restict user from performing test if charge is below 3.5 for 5 runs\n",
    "\n",
    "\n",
    "# Input to be taken from user (Also restrict user from entering invald entries)\n",
    "t = 0\n",
    "while t < 1:\n",
    "    try:\n",
    "        wv_type = int(input(\"Enter 1 for dual device, 2 for 367 device, 3 for 405 device : \"))\n",
    "        if wv_type not in [1, 2, 3]:\n",
    "            raise Exception\n",
    "    except:\n",
    "        print('Invalid wavelength! Please try again!')\n",
    "    else:\n",
    "        t += 1\n",
    "\n",
    "# Wavelength selection section\n",
    "if wv_type == 1:\n",
    "    wavelength_list = [528, 620]\n",
    "elif wv_type == 2:\n",
    "    wavelength_list = [367]\n",
    "else:\n",
    "    wavelength_list = [405]"
   ]
  },
  {
   "cell_type": "code",
   "execution_count": null,
   "metadata": {},
   "outputs": [],
   "source": []
  },
  {
   "cell_type": "code",
   "execution_count": null,
   "metadata": {},
   "outputs": [],
   "source": []
  }
 ],
 "metadata": {
  "kernelspec": {
   "display_name": "Python 3",
   "language": "python",
   "name": "python3"
  },
  "language_info": {
   "codemirror_mode": {
    "name": "ipython",
    "version": 3
   },
   "file_extension": ".py",
   "mimetype": "text/x-python",
   "name": "python",
   "nbconvert_exporter": "python",
   "pygments_lexer": "ipython3",
   "version": "3.12.3"
  }
 },
 "nbformat": 4,
 "nbformat_minor": 2
}
